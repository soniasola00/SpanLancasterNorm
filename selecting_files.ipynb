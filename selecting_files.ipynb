{
 "cells": [
  {
   "cell_type": "markdown",
   "id": "f731f872-2aad-4977-9709-16d748f006a4",
   "metadata": {},
   "source": [
    "# Merge data #\n",
    "For the SentirEs project this code is gathering the ratings six sensory modalities from the partipants:\n",
    "Audition, Gustatory, Haptic, Interoception, Olfaction, and Vision. The main purpose of this code is to read a folder of csv files\n",
    "(all the partipants resonses) and concatonate it toda to form one long csv file we can use in our data analysis section. \n"
   ]
  },
  {
   "cell_type": "code",
   "execution_count": 3,
   "id": "64eca98b-e40a-4e1b-9b6d-a53d4a492a1f",
   "metadata": {},
   "outputs": [],
   "source": [
    "import pandas as pd\n",
    "import numpy as np\n",
    "import glob\n",
    "import os"
   ]
  },
  {
   "cell_type": "code",
   "execution_count": 4,
   "id": "1241e8fd-e4f8-4988-8fcb-d29878e11dce",
   "metadata": {},
   "outputs": [],
   "source": [
    "def combine_csv_from_folder(folder_path, columns, output_file, manzanita_arg):\n",
    "    file_paths = glob.glob(f\"{folder_path}/*.csv\")\n",
    "    dataframes = []\n",
    "    \n",
    "    # Loop over each CSV file in the folder\n",
    "    for file_path in file_paths:\n",
    "        # Read only the required columns from the file\n",
    "        df = pd.read_csv(file_path, usecols=columns)\n",
    "        \n",
    "        # Handling manzanita_arg columns\n",
    "        df_io = pd.read_csv(file_path, usecols=manzanita_arg)\n",
    "        \n",
    "        # Process manzanita_arg columns to add check columns in the main dataframe\n",
    "        for manzana in manzanita_arg:\n",
    "            df_manzana = df_io[[manzana]].fillna(pd.NA).dropna()\n",
    "            \n",
    "            # Add check column based on the presence of non-NaN values in the `manzana` column\n",
    "            if len(df_manzana) > 0:\n",
    "                df[manzana] = 1  # Mark as 1 if data exists\n",
    "            else:\n",
    "                df[manzana] = 0  # Mark as 0 if no data\n",
    "                \n",
    "        # Drop rows where 'Word' column is NaN\n",
    "        df.dropna(subset=[\"Word\"], inplace=True)\n",
    "        (n_items,_)= df.shape\n",
    "        df[\"Index\"] = list(range(n_items))\n",
    "        # Append the cleaned dataframe to the list\n",
    "        dataframes.append(df)\n",
    "    \n",
    "    # Combine all the dataframes into one\n",
    "    combined_df = pd.concat(dataframes, ignore_index=True)\n",
    "    \n",
    "    # Apply mask where 'nose2PAN.numClicks' is 0\n",
    "    mask = combined_df[\"nose2PAN.numClicks\"] == 0\n",
    "    \n",
    "    # Replace NaN values in the dataframe with \"NaN\" as a string\n",
    "    combined_df.fillna(value=\"NaN\", inplace=True)\n",
    "    \n",
    "    # Save the combined dataframe to the specified output CSV file\n",
    "    combined_df.to_csv(output_file, index=False)\n",
    "\n",
    "# Example usage:\n",
    "folder_path = \"/Users/soniasimon/Documents/thesis/selecting_files/data\"\n",
    "columns = [\"PROLIFIC_PID\", \"Word\", \"auditionslider.response\", \"tasteslider.response\", \n",
    "           \"hapticslider.response\", \"olfactionslider.response\", \"visionslider.response\", \n",
    "           \"interoceptionsslider.response\", \"Category\", \"participant\", \"nose2PAN.numClicks\",]\n",
    "manzanita_arg = [\"Ave.numClicks\", \"quinze.numClicks\", \"manzana.numClicks\"]\n",
    "output_file = \"/Users/soniasimon/Documents/thesis/selecting_files/output_4.csv\"\n",
    "\n",
    "combine_csv_from_folder(folder_path, columns, output_file, manzanita_arg)\n"
   ]
  }
 ],
 "metadata": {
  "kernelspec": {
   "display_name": "Python 3 (ipykernel)",
   "language": "python",
   "name": "python3"
  },
  "language_info": {
   "codemirror_mode": {
    "name": "ipython",
    "version": 3
   },
   "file_extension": ".py",
   "mimetype": "text/x-python",
   "name": "python",
   "nbconvert_exporter": "python",
   "pygments_lexer": "ipython3",
   "version": "3.8.18"
  }
 },
 "nbformat": 4,
 "nbformat_minor": 5
}
